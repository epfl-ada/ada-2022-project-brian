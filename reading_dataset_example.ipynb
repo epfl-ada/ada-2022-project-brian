{
 "cells": [
  {
   "cell_type": "code",
   "execution_count": 1,
   "metadata": {},
   "outputs": [],
   "source": [
    "import tools"
   ]
  },
  {
   "cell_type": "code",
   "execution_count": 2,
   "metadata": {},
   "outputs": [],
   "source": [
    "BA_sample_file = './datasets/BeerAdvocate/reviews_sample.txt'\n",
    "RB_sample_file = './datasets/RateBeer/reviews_sample.txt'"
   ]
  },
  {
   "cell_type": "code",
   "execution_count": 3,
   "metadata": {},
   "outputs": [
    {
     "data": {
      "text/plain": [
       "beer_name               object\n",
       "beer_id                  int64\n",
       "brewery_name            object\n",
       "brewery_id               int64\n",
       "style                   object\n",
       "abv                    float64\n",
       "date            datetime64[ns]\n",
       "user_name               object\n",
       "user_id                 object\n",
       "appearance             float64\n",
       "aroma                  float64\n",
       "palate                 float64\n",
       "taste                  float64\n",
       "overall                float64\n",
       "rating                 float64\n",
       "text                    object\n",
       "review                    bool\n",
       "dtype: object"
      ]
     },
     "execution_count": 3,
     "metadata": {},
     "output_type": "execute_result"
    }
   ],
   "source": [
    "BA_df = tools.read_reviews_file(BA_sample_file)\n",
    "BA_df.dtypes"
   ]
  },
  {
   "cell_type": "code",
   "execution_count": 4,
   "metadata": {},
   "outputs": [
    {
     "data": {
      "text/html": [
       "<div>\n",
       "<style scoped>\n",
       "    .dataframe tbody tr th:only-of-type {\n",
       "        vertical-align: middle;\n",
       "    }\n",
       "\n",
       "    .dataframe tbody tr th {\n",
       "        vertical-align: top;\n",
       "    }\n",
       "\n",
       "    .dataframe thead th {\n",
       "        text-align: right;\n",
       "    }\n",
       "</style>\n",
       "<table border=\"1\" class=\"dataframe\">\n",
       "  <thead>\n",
       "    <tr style=\"text-align: right;\">\n",
       "      <th></th>\n",
       "      <th>beer_name</th>\n",
       "      <th>beer_id</th>\n",
       "      <th>brewery_name</th>\n",
       "      <th>brewery_id</th>\n",
       "      <th>style</th>\n",
       "      <th>abv</th>\n",
       "      <th>date</th>\n",
       "      <th>user_name</th>\n",
       "      <th>user_id</th>\n",
       "      <th>appearance</th>\n",
       "      <th>aroma</th>\n",
       "      <th>palate</th>\n",
       "      <th>taste</th>\n",
       "      <th>overall</th>\n",
       "      <th>rating</th>\n",
       "      <th>text</th>\n",
       "      <th>review</th>\n",
       "    </tr>\n",
       "  </thead>\n",
       "  <tbody>\n",
       "    <tr>\n",
       "      <th>0</th>\n",
       "      <td>Régab</td>\n",
       "      <td>142544</td>\n",
       "      <td>Societe des Brasseries du Gabon (SOBRAGA)</td>\n",
       "      <td>37262</td>\n",
       "      <td>Euro Pale Lager</td>\n",
       "      <td>4.5</td>\n",
       "      <td>2015-08-20 12:00:00</td>\n",
       "      <td>nmann08</td>\n",
       "      <td>nmann08.184925</td>\n",
       "      <td>3.25</td>\n",
       "      <td>2.75</td>\n",
       "      <td>3.25</td>\n",
       "      <td>2.75</td>\n",
       "      <td>3.0</td>\n",
       "      <td>2.88</td>\n",
       "      <td>From a bottle, pours a piss yellow color with...</td>\n",
       "      <td>True</td>\n",
       "    </tr>\n",
       "    <tr>\n",
       "      <th>1</th>\n",
       "      <td>Barelegs Brew</td>\n",
       "      <td>19590</td>\n",
       "      <td>Strangford Lough Brewing Company Ltd</td>\n",
       "      <td>10093</td>\n",
       "      <td>English Pale Ale</td>\n",
       "      <td>4.5</td>\n",
       "      <td>2009-02-20 12:00:00</td>\n",
       "      <td>StJamesGate</td>\n",
       "      <td>stjamesgate.163714</td>\n",
       "      <td>3.00</td>\n",
       "      <td>3.50</td>\n",
       "      <td>3.50</td>\n",
       "      <td>4.00</td>\n",
       "      <td>3.5</td>\n",
       "      <td>3.67</td>\n",
       "      <td>Pours pale copper with a thin head that quick...</td>\n",
       "      <td>True</td>\n",
       "    </tr>\n",
       "  </tbody>\n",
       "</table>\n",
       "</div>"
      ],
      "text/plain": [
       "       beer_name  beer_id                               brewery_name  \\\n",
       "0          Régab   142544  Societe des Brasseries du Gabon (SOBRAGA)   \n",
       "1  Barelegs Brew    19590       Strangford Lough Brewing Company Ltd   \n",
       "\n",
       "   brewery_id             style  abv                date     user_name  \\\n",
       "0       37262   Euro Pale Lager  4.5 2015-08-20 12:00:00       nmann08   \n",
       "1       10093  English Pale Ale  4.5 2009-02-20 12:00:00   StJamesGate   \n",
       "\n",
       "              user_id  appearance  aroma  palate  taste  overall  rating  \\\n",
       "0      nmann08.184925        3.25   2.75    3.25   2.75      3.0    2.88   \n",
       "1  stjamesgate.163714        3.00   3.50    3.50   4.00      3.5    3.67   \n",
       "\n",
       "                                                text  review  \n",
       "0   From a bottle, pours a piss yellow color with...    True  \n",
       "1   Pours pale copper with a thin head that quick...    True  "
      ]
     },
     "execution_count": 4,
     "metadata": {},
     "output_type": "execute_result"
    }
   ],
   "source": [
    "BA_df.head(2)"
   ]
  },
  {
   "cell_type": "code",
   "execution_count": null,
   "metadata": {},
   "outputs": [],
   "source": []
  }
 ],
 "metadata": {
  "kernelspec": {
   "display_name": "Python 3.9.13 ('base')",
   "language": "python",
   "name": "python3"
  },
  "language_info": {
   "codemirror_mode": {
    "name": "ipython",
    "version": 3
   },
   "file_extension": ".py",
   "mimetype": "text/x-python",
   "name": "python",
   "nbconvert_exporter": "python",
   "pygments_lexer": "ipython3",
   "version": "3.9.13"
  },
  "orig_nbformat": 4,
  "vscode": {
   "interpreter": {
    "hash": "ca486eb89a1f164ff776ee2c27d960de948aa5dc0c9b966806d94f7c5c339dea"
   }
  }
 },
 "nbformat": 4,
 "nbformat_minor": 2
}
