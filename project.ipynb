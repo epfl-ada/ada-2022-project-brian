{
 "cells": [
  {
   "cell_type": "markdown",
   "id": "2822220d-369f-44a5-82ea-150c9a54e599",
   "metadata": {},
   "source": [
    "When describing the relevant aspects of the data, and any other datasets you may intend to use, you should in particular show (non-exhaustive list):\n",
    "\n",
    "1) That you can handle the data in its size.\n",
    "2) That you understand what’s in the data (formats, distributions, missing values, correlations, etc.).\n",
    "3) That you considered ways to enrich, filter, transform the data according to your needs.\n",
    "4) That you have a reasonable plan and ideas for methods you’re going to use, giving their essential mathematical details in the notebook.\n",
    "5) That your plan for analysis and communication is reasonable and sound, potentially discussing alternatives to your choices that you considered but dropped.\n",
    "\n",
    "We will evaluate this milestone according to how well these steps have been done and documented, the quality of the code and its documentation, the feasibility and critical awareness of the project. We will also evaluate this milestone according to how clear, reasonable, and well thought-through the project idea is. Please use the second milestone to really check with us that everything is in order with your project (idea, feasibility, etc.) before you advance too much with the final Milestone P3! There will be project office hours dedicated to helping you."
   ]
  },
  {
   "cell_type": "markdown",
   "id": "8772ff6c-539f-44af-a25f-902d73b9bdf2",
   "metadata": {},
   "source": [
    "# Modules and tools :"
   ]
  },
  {
   "cell_type": "code",
   "execution_count": 98,
   "id": "8512fb7e-51cb-4a60-a0eb-fb22dc34c054",
   "metadata": {},
   "outputs": [],
   "source": [
    "import pandas as pd\n",
    "pd.options.mode.chained_assignment = None  # default='warn', Mutes warnings when copying a slice from a DataFrame.\n",
    "import numpy as np\n",
    "import scipy.stats as st\n",
    "from matplotlib import pyplot as plt\n",
    "from matplotlib.colors import LogNorm\n",
    "import seaborn as sns\n",
    "from datetime import datetime, date, time\n",
    "import requests"
   ]
  },
  {
   "cell_type": "markdown",
   "id": "b257b0f6-74c2-4575-bcbb-e6ca12194045",
   "metadata": {},
   "source": [
    "# Beer dataset:"
   ]
  },
  {
   "cell_type": "markdown",
   "id": "7c19de12-e1d2-48dc-bbda-bf7eb67f4fad",
   "metadata": {},
   "source": [
    "The dataset come from two different websites : https://www.ratebeer.com/ and https://www.beeradvocate.com/. This two platform where one can review and share about beers. Technically it consists of three csv files and two txt files for each websites :\n",
    "1) beers.csv : informations about the beers\n",
    "2) breweries.csv : informations about the breweries\n",
    "3) users.csv : informations about the users\n",
    "4) rating.txt : all the different rating for each beer\n",
    "5) reviews.txt : all the different review for each beer\n",
    "\n",
    "There is also matched dataset between the two websites.\n",
    "\n",
    "### Lets take a look at the data given by BeerAdvocate :"
   ]
  },
  {
   "cell_type": "code",
   "execution_count": 14,
   "id": "6d6342bc-7eb1-41ac-80d6-8cf4529af3b8",
   "metadata": {},
   "outputs": [
    {
     "data": {
      "text/html": [
       "<div>\n",
       "<style scoped>\n",
       "    .dataframe tbody tr th:only-of-type {\n",
       "        vertical-align: middle;\n",
       "    }\n",
       "\n",
       "    .dataframe tbody tr th {\n",
       "        vertical-align: top;\n",
       "    }\n",
       "\n",
       "    .dataframe thead th {\n",
       "        text-align: right;\n",
       "    }\n",
       "</style>\n",
       "<table border=\"1\" class=\"dataframe\">\n",
       "  <thead>\n",
       "    <tr style=\"text-align: right;\">\n",
       "      <th></th>\n",
       "      <th>beer_id</th>\n",
       "      <th>beer_name</th>\n",
       "      <th>brewery_id</th>\n",
       "      <th>brewery_name</th>\n",
       "      <th>style</th>\n",
       "      <th>nbr_ratings</th>\n",
       "      <th>nbr_reviews</th>\n",
       "      <th>avg</th>\n",
       "      <th>ba_score</th>\n",
       "      <th>bros_score</th>\n",
       "      <th>abv</th>\n",
       "      <th>avg_computed</th>\n",
       "      <th>zscore</th>\n",
       "      <th>nbr_matched_valid_ratings</th>\n",
       "      <th>avg_matched_valid_ratings</th>\n",
       "    </tr>\n",
       "  </thead>\n",
       "  <tbody>\n",
       "    <tr>\n",
       "      <th>0</th>\n",
       "      <td>166064</td>\n",
       "      <td>Nashe Moskovskoe</td>\n",
       "      <td>39912</td>\n",
       "      <td>Abdysh-Ata (Абдыш Ата)</td>\n",
       "      <td>Euro Pale Lager</td>\n",
       "      <td>0</td>\n",
       "      <td>0</td>\n",
       "      <td>NaN</td>\n",
       "      <td>NaN</td>\n",
       "      <td>NaN</td>\n",
       "      <td>4.7</td>\n",
       "      <td>NaN</td>\n",
       "      <td>NaN</td>\n",
       "      <td>0</td>\n",
       "      <td>NaN</td>\n",
       "    </tr>\n",
       "    <tr>\n",
       "      <th>1</th>\n",
       "      <td>166065</td>\n",
       "      <td>Nashe Pivovskoe</td>\n",
       "      <td>39912</td>\n",
       "      <td>Abdysh-Ata (Абдыш Ата)</td>\n",
       "      <td>Euro Pale Lager</td>\n",
       "      <td>0</td>\n",
       "      <td>0</td>\n",
       "      <td>NaN</td>\n",
       "      <td>NaN</td>\n",
       "      <td>NaN</td>\n",
       "      <td>3.8</td>\n",
       "      <td>NaN</td>\n",
       "      <td>NaN</td>\n",
       "      <td>0</td>\n",
       "      <td>NaN</td>\n",
       "    </tr>\n",
       "    <tr>\n",
       "      <th>2</th>\n",
       "      <td>166066</td>\n",
       "      <td>Nashe Shakhterskoe</td>\n",
       "      <td>39912</td>\n",
       "      <td>Abdysh-Ata (Абдыш Ата)</td>\n",
       "      <td>Euro Pale Lager</td>\n",
       "      <td>0</td>\n",
       "      <td>0</td>\n",
       "      <td>NaN</td>\n",
       "      <td>NaN</td>\n",
       "      <td>NaN</td>\n",
       "      <td>4.8</td>\n",
       "      <td>NaN</td>\n",
       "      <td>NaN</td>\n",
       "      <td>0</td>\n",
       "      <td>NaN</td>\n",
       "    </tr>\n",
       "    <tr>\n",
       "      <th>3</th>\n",
       "      <td>166067</td>\n",
       "      <td>Nashe Zhigulevskoe</td>\n",
       "      <td>39912</td>\n",
       "      <td>Abdysh-Ata (Абдыш Ата)</td>\n",
       "      <td>Euro Pale Lager</td>\n",
       "      <td>0</td>\n",
       "      <td>0</td>\n",
       "      <td>NaN</td>\n",
       "      <td>NaN</td>\n",
       "      <td>NaN</td>\n",
       "      <td>4.0</td>\n",
       "      <td>NaN</td>\n",
       "      <td>NaN</td>\n",
       "      <td>0</td>\n",
       "      <td>NaN</td>\n",
       "    </tr>\n",
       "    <tr>\n",
       "      <th>4</th>\n",
       "      <td>166063</td>\n",
       "      <td>Zhivoe</td>\n",
       "      <td>39912</td>\n",
       "      <td>Abdysh-Ata (Абдыш Ата)</td>\n",
       "      <td>Euro Pale Lager</td>\n",
       "      <td>0</td>\n",
       "      <td>0</td>\n",
       "      <td>NaN</td>\n",
       "      <td>NaN</td>\n",
       "      <td>NaN</td>\n",
       "      <td>4.5</td>\n",
       "      <td>NaN</td>\n",
       "      <td>NaN</td>\n",
       "      <td>0</td>\n",
       "      <td>NaN</td>\n",
       "    </tr>\n",
       "    <tr>\n",
       "      <th>5</th>\n",
       "      <td>166068</td>\n",
       "      <td>Arpa</td>\n",
       "      <td>39913</td>\n",
       "      <td>Arpa (АРПА)</td>\n",
       "      <td>Euro Pale Lager</td>\n",
       "      <td>0</td>\n",
       "      <td>0</td>\n",
       "      <td>NaN</td>\n",
       "      <td>NaN</td>\n",
       "      <td>NaN</td>\n",
       "      <td>4.0</td>\n",
       "      <td>NaN</td>\n",
       "      <td>NaN</td>\n",
       "      <td>0</td>\n",
       "      <td>NaN</td>\n",
       "    </tr>\n",
       "    <tr>\n",
       "      <th>6</th>\n",
       "      <td>166071</td>\n",
       "      <td>Eles</td>\n",
       "      <td>39914</td>\n",
       "      <td>Bear Beer</td>\n",
       "      <td>Euro Pale Lager</td>\n",
       "      <td>0</td>\n",
       "      <td>0</td>\n",
       "      <td>NaN</td>\n",
       "      <td>NaN</td>\n",
       "      <td>NaN</td>\n",
       "      <td>4.0</td>\n",
       "      <td>NaN</td>\n",
       "      <td>NaN</td>\n",
       "      <td>0</td>\n",
       "      <td>NaN</td>\n",
       "    </tr>\n",
       "    <tr>\n",
       "      <th>7</th>\n",
       "      <td>166072</td>\n",
       "      <td>Eles Light</td>\n",
       "      <td>39914</td>\n",
       "      <td>Bear Beer</td>\n",
       "      <td>Euro Pale Lager</td>\n",
       "      <td>0</td>\n",
       "      <td>0</td>\n",
       "      <td>NaN</td>\n",
       "      <td>NaN</td>\n",
       "      <td>NaN</td>\n",
       "      <td>3.2</td>\n",
       "      <td>NaN</td>\n",
       "      <td>NaN</td>\n",
       "      <td>0</td>\n",
       "      <td>NaN</td>\n",
       "    </tr>\n",
       "    <tr>\n",
       "      <th>8</th>\n",
       "      <td>166074</td>\n",
       "      <td>Toroz Svetloye</td>\n",
       "      <td>39914</td>\n",
       "      <td>Bear Beer</td>\n",
       "      <td>American Pale Lager</td>\n",
       "      <td>0</td>\n",
       "      <td>0</td>\n",
       "      <td>NaN</td>\n",
       "      <td>NaN</td>\n",
       "      <td>NaN</td>\n",
       "      <td>4.5</td>\n",
       "      <td>NaN</td>\n",
       "      <td>NaN</td>\n",
       "      <td>0</td>\n",
       "      <td>NaN</td>\n",
       "    </tr>\n",
       "    <tr>\n",
       "      <th>9</th>\n",
       "      <td>166076</td>\n",
       "      <td>Toroz Temnoye</td>\n",
       "      <td>39914</td>\n",
       "      <td>Bear Beer</td>\n",
       "      <td>Euro Dark Lager</td>\n",
       "      <td>0</td>\n",
       "      <td>0</td>\n",
       "      <td>NaN</td>\n",
       "      <td>NaN</td>\n",
       "      <td>NaN</td>\n",
       "      <td>4.1</td>\n",
       "      <td>NaN</td>\n",
       "      <td>NaN</td>\n",
       "      <td>0</td>\n",
       "      <td>NaN</td>\n",
       "    </tr>\n",
       "  </tbody>\n",
       "</table>\n",
       "</div>"
      ],
      "text/plain": [
       "   beer_id           beer_name  brewery_id            brewery_name  \\\n",
       "0   166064    Nashe Moskovskoe       39912  Abdysh-Ata (Абдыш Ата)   \n",
       "1   166065     Nashe Pivovskoe       39912  Abdysh-Ata (Абдыш Ата)   \n",
       "2   166066  Nashe Shakhterskoe       39912  Abdysh-Ata (Абдыш Ата)   \n",
       "3   166067  Nashe Zhigulevskoe       39912  Abdysh-Ata (Абдыш Ата)   \n",
       "4   166063              Zhivoe       39912  Abdysh-Ata (Абдыш Ата)   \n",
       "5   166068                Arpa       39913             Arpa (АРПА)   \n",
       "6   166071                Eles       39914               Bear Beer   \n",
       "7   166072          Eles Light       39914               Bear Beer   \n",
       "8   166074      Toroz Svetloye       39914               Bear Beer   \n",
       "9   166076       Toroz Temnoye       39914               Bear Beer   \n",
       "\n",
       "                 style  nbr_ratings  nbr_reviews  avg  ba_score  bros_score  \\\n",
       "0      Euro Pale Lager            0            0  NaN       NaN         NaN   \n",
       "1      Euro Pale Lager            0            0  NaN       NaN         NaN   \n",
       "2      Euro Pale Lager            0            0  NaN       NaN         NaN   \n",
       "3      Euro Pale Lager            0            0  NaN       NaN         NaN   \n",
       "4      Euro Pale Lager            0            0  NaN       NaN         NaN   \n",
       "5      Euro Pale Lager            0            0  NaN       NaN         NaN   \n",
       "6      Euro Pale Lager            0            0  NaN       NaN         NaN   \n",
       "7      Euro Pale Lager            0            0  NaN       NaN         NaN   \n",
       "8  American Pale Lager            0            0  NaN       NaN         NaN   \n",
       "9      Euro Dark Lager            0            0  NaN       NaN         NaN   \n",
       "\n",
       "   abv  avg_computed  zscore  nbr_matched_valid_ratings  \\\n",
       "0  4.7           NaN     NaN                          0   \n",
       "1  3.8           NaN     NaN                          0   \n",
       "2  4.8           NaN     NaN                          0   \n",
       "3  4.0           NaN     NaN                          0   \n",
       "4  4.5           NaN     NaN                          0   \n",
       "5  4.0           NaN     NaN                          0   \n",
       "6  4.0           NaN     NaN                          0   \n",
       "7  3.2           NaN     NaN                          0   \n",
       "8  4.5           NaN     NaN                          0   \n",
       "9  4.1           NaN     NaN                          0   \n",
       "\n",
       "   avg_matched_valid_ratings  \n",
       "0                        NaN  \n",
       "1                        NaN  \n",
       "2                        NaN  \n",
       "3                        NaN  \n",
       "4                        NaN  \n",
       "5                        NaN  \n",
       "6                        NaN  \n",
       "7                        NaN  \n",
       "8                        NaN  \n",
       "9                        NaN  "
      ]
     },
     "execution_count": 14,
     "metadata": {},
     "output_type": "execute_result"
    }
   ],
   "source": [
    "beers_ba = pd.read_csv('DATA/BeerAdvocate/beers.csv')\n",
    "beers_ba.head(10)"
   ]
  },
  {
   "cell_type": "code",
   "execution_count": 11,
   "id": "195f5b9a-14e6-4b35-8155-3f4c725a2e6a",
   "metadata": {},
   "outputs": [
    {
     "data": {
      "text/html": [
       "<div>\n",
       "<style scoped>\n",
       "    .dataframe tbody tr th:only-of-type {\n",
       "        vertical-align: middle;\n",
       "    }\n",
       "\n",
       "    .dataframe tbody tr th {\n",
       "        vertical-align: top;\n",
       "    }\n",
       "\n",
       "    .dataframe thead th {\n",
       "        text-align: right;\n",
       "    }\n",
       "</style>\n",
       "<table border=\"1\" class=\"dataframe\">\n",
       "  <thead>\n",
       "    <tr style=\"text-align: right;\">\n",
       "      <th></th>\n",
       "      <th>id</th>\n",
       "      <th>location</th>\n",
       "      <th>name</th>\n",
       "      <th>nbr_beers</th>\n",
       "    </tr>\n",
       "  </thead>\n",
       "  <tbody>\n",
       "    <tr>\n",
       "      <th>0</th>\n",
       "      <td>39912</td>\n",
       "      <td>Kyrgyzstan</td>\n",
       "      <td>Abdysh-Ata (Абдыш Ата)</td>\n",
       "      <td>5</td>\n",
       "    </tr>\n",
       "    <tr>\n",
       "      <th>1</th>\n",
       "      <td>39913</td>\n",
       "      <td>Kyrgyzstan</td>\n",
       "      <td>Arpa (АРПА)</td>\n",
       "      <td>1</td>\n",
       "    </tr>\n",
       "    <tr>\n",
       "      <th>2</th>\n",
       "      <td>39914</td>\n",
       "      <td>Kyrgyzstan</td>\n",
       "      <td>Bear Beer</td>\n",
       "      <td>4</td>\n",
       "    </tr>\n",
       "    <tr>\n",
       "      <th>3</th>\n",
       "      <td>39915</td>\n",
       "      <td>Kyrgyzstan</td>\n",
       "      <td>Blonder Pub</td>\n",
       "      <td>4</td>\n",
       "    </tr>\n",
       "    <tr>\n",
       "      <th>4</th>\n",
       "      <td>39916</td>\n",
       "      <td>Kyrgyzstan</td>\n",
       "      <td>Kellers Bier</td>\n",
       "      <td>2</td>\n",
       "    </tr>\n",
       "    <tr>\n",
       "      <th>5</th>\n",
       "      <td>16051</td>\n",
       "      <td>Kyrgyzstan</td>\n",
       "      <td>Pivzavod Uzgen</td>\n",
       "      <td>0</td>\n",
       "    </tr>\n",
       "    <tr>\n",
       "      <th>6</th>\n",
       "      <td>16052</td>\n",
       "      <td>Kyrgyzstan</td>\n",
       "      <td>Steinbrau Pub</td>\n",
       "      <td>4</td>\n",
       "    </tr>\n",
       "    <tr>\n",
       "      <th>7</th>\n",
       "      <td>39917</td>\n",
       "      <td>Kyrgyzstan</td>\n",
       "      <td>Usu-Salkin Pivo</td>\n",
       "      <td>3</td>\n",
       "    </tr>\n",
       "    <tr>\n",
       "      <th>8</th>\n",
       "      <td>37262</td>\n",
       "      <td>Gabon</td>\n",
       "      <td>Societe des Brasseries du Gabon (SOBRAGA)</td>\n",
       "      <td>1</td>\n",
       "    </tr>\n",
       "    <tr>\n",
       "      <th>9</th>\n",
       "      <td>10093</td>\n",
       "      <td>Northern Ireland</td>\n",
       "      <td>Strangford Lough Brewing Company Ltd</td>\n",
       "      <td>5</td>\n",
       "    </tr>\n",
       "  </tbody>\n",
       "</table>\n",
       "</div>"
      ],
      "text/plain": [
       "      id          location                                       name  \\\n",
       "0  39912        Kyrgyzstan                     Abdysh-Ata (Абдыш Ата)   \n",
       "1  39913        Kyrgyzstan                                Arpa (АРПА)   \n",
       "2  39914        Kyrgyzstan                                  Bear Beer   \n",
       "3  39915        Kyrgyzstan                                Blonder Pub   \n",
       "4  39916        Kyrgyzstan                               Kellers Bier   \n",
       "5  16051        Kyrgyzstan                             Pivzavod Uzgen   \n",
       "6  16052        Kyrgyzstan                              Steinbrau Pub   \n",
       "7  39917        Kyrgyzstan                            Usu-Salkin Pivo   \n",
       "8  37262             Gabon  Societe des Brasseries du Gabon (SOBRAGA)   \n",
       "9  10093  Northern Ireland       Strangford Lough Brewing Company Ltd   \n",
       "\n",
       "   nbr_beers  \n",
       "0          5  \n",
       "1          1  \n",
       "2          4  \n",
       "3          4  \n",
       "4          2  \n",
       "5          0  \n",
       "6          4  \n",
       "7          3  \n",
       "8          1  \n",
       "9          5  "
      ]
     },
     "execution_count": 11,
     "metadata": {},
     "output_type": "execute_result"
    }
   ],
   "source": [
    "breweries_ba = pd.read_csv('DATA/BeerAdvocate/breweries.csv')\n",
    "breweries_ba.head(10)"
   ]
  },
  {
   "cell_type": "markdown",
   "id": "70b1a0e3-7b6f-41ef-a7ba-21c05dffbb03",
   "metadata": {},
   "source": [
    "As we can see it seems that the data are stored in a relational model (i.e., the index ```brewery_id``` in the beers.csv dataset is the foreign key that point to the primary key ```id``` in the breweries.csv. \n",
    "\n",
    "We can confirm our observation with a prelimenary check on the name of the brewery for the first row of ```beer_ba```: "
   ]
  },
  {
   "cell_type": "code",
   "execution_count": 27,
   "id": "f3fc4830-3601-4a0b-963b-03760f95053d",
   "metadata": {},
   "outputs": [
    {
     "name": "stdout",
     "output_type": "stream",
     "text": [
      "0    True\n",
      "Name: name, dtype: bool\n"
     ]
    }
   ],
   "source": [
    "beers_ba.iloc[0].brewery_name == breweries_ba[breweries_ba.id == beers_ba.iloc[0].brewery_id].name"
   ]
  },
  {
   "cell_type": "markdown",
   "id": "36dcdf32-ca8d-41da-9973-06c140170d59",
   "metadata": {},
   "source": [
    "Ok so we have our first confirmation, we should make sure that there is no problem with the attribution of the key by performing the test for each rows but for now let assume there is no issues.\n",
    "\n",
    "Let's first dicuss about the data size."
   ]
  },
  {
   "cell_type": "code",
   "execution_count": null,
   "id": "b0897987-1f0f-4489-bb8c-9c548341c6e1",
   "metadata": {},
   "outputs": [],
   "source": []
  },
  {
   "cell_type": "markdown",
   "id": "e618f07f",
   "metadata": {},
   "source": [
    "## Relationship between user's country and beer origin"
   ]
  },
  {
   "cell_type": "markdown",
   "id": "ac54ab2e",
   "metadata": {},
   "source": [
    "Let's have a look at possible indicators that may suggest correlations between the users country and the beers they review and prefer.\n",
    "\n",
    "In this initial exploration, we are going to use a sampled version of the data of reviews from the BeerAdvocate source. This sample file encompass the first 2,000,000 lines from the original text file (of more than 151 million lines). "
   ]
  },
  {
   "cell_type": "code",
   "execution_count": 5,
   "id": "1c51dbad",
   "metadata": {},
   "outputs": [],
   "source": [
    "# The datasets' location in the repository:\n",
    "\n",
    "sample_file = 'datasets/BeerAdvocate/reviews_sample.txt'\n",
    "users_file = 'datasets/BeerAdvocate/users.csv'\n",
    "breweries_file = 'datasets/BeerAdvocate/breweries.csv'"
   ]
  },
  {
   "cell_type": "markdown",
   "id": "04cc119d",
   "metadata": {},
   "source": [
    "#### Functions to read the datasets:"
   ]
  },
  {
   "cell_type": "code",
   "execution_count": 48,
   "id": "465f8c8a",
   "metadata": {},
   "outputs": [],
   "source": [
    "def parse_dict(lines):\n",
    "    result = {}\n",
    "    for line in lines:\n",
    "        key, value = line.split(':', 1)\n",
    "        value = value.split('\\n')[0]\n",
    "        result[key] = value\n",
    "    return result\n",
    "\n",
    "\n",
    "def read_reviews_file(file_path):\n",
    "    with open(file_path, 'r', encoding='utf-8') as file:\n",
    "        lines = file.readlines()\n",
    "\n",
    "    blank_lines_indexes = [index for index, line in enumerate(lines) if line.isspace()]\n",
    "\n",
    "    data = []\n",
    "    begin_index = 0\n",
    "    for end_index in blank_lines_indexes:\n",
    "        result_dict = parse_dict(lines[begin_index:end_index])\n",
    "        data.append(result_dict)\n",
    "        begin_index = end_index + 1\n",
    "\n",
    "    df = pd.DataFrame(data)\n",
    "    for field in ['user_id', 'style']:\n",
    "        df[field] = df[field].apply(lambda x: x.strip())\n",
    "    df['brewery_id'] = df['brewery_id'].astype(int)\n",
    "    df['rating'] = df['rating'].astype(float)\n",
    "    return df\n",
    "\n",
    "\n",
    "def read_users_file(users_file):\n",
    "    df = pd.read_csv(users_file).dropna()\n",
    "    df['user_id'] = df['user_id'].apply(lambda x: x.strip())\n",
    "    df['country'] = df['location'].apply(lambda x: x.split(',', 1)[0].lower())\n",
    "    return df\n",
    "\n",
    "\n",
    "def read_breweries_file(file_path):\n",
    "    df = pd.read_csv(file_path).dropna()\n",
    "    df['country'] = df['location'].apply(lambda x: x.split(',', 1)[0].lower())\n",
    "    df['id'] = df['id'].astype(int)\n",
    "    return df"
   ]
  },
  {
   "cell_type": "markdown",
   "id": "b80d83d0",
   "metadata": {},
   "source": [
    "### The dataset of reviews:"
   ]
  },
  {
   "cell_type": "code",
   "execution_count": 16,
   "id": "25fe01a9",
   "metadata": {},
   "outputs": [
    {
     "name": "stdout",
     "output_type": "stream",
     "text": [
      "number of reviews = 111111\n"
     ]
    },
    {
     "data": {
      "text/html": [
       "<div>\n",
       "<style scoped>\n",
       "    .dataframe tbody tr th:only-of-type {\n",
       "        vertical-align: middle;\n",
       "    }\n",
       "\n",
       "    .dataframe tbody tr th {\n",
       "        vertical-align: top;\n",
       "    }\n",
       "\n",
       "    .dataframe thead th {\n",
       "        text-align: right;\n",
       "    }\n",
       "</style>\n",
       "<table border=\"1\" class=\"dataframe\">\n",
       "  <thead>\n",
       "    <tr style=\"text-align: right;\">\n",
       "      <th></th>\n",
       "      <th>beer_name</th>\n",
       "      <th>beer_id</th>\n",
       "      <th>brewery_name</th>\n",
       "      <th>brewery_id</th>\n",
       "      <th>style</th>\n",
       "      <th>abv</th>\n",
       "      <th>date</th>\n",
       "      <th>user_name</th>\n",
       "      <th>user_id</th>\n",
       "      <th>appearance</th>\n",
       "      <th>aroma</th>\n",
       "      <th>palate</th>\n",
       "      <th>taste</th>\n",
       "      <th>overall</th>\n",
       "      <th>rating</th>\n",
       "      <th>text</th>\n",
       "      <th>review</th>\n",
       "    </tr>\n",
       "  </thead>\n",
       "  <tbody>\n",
       "    <tr>\n",
       "      <th>0</th>\n",
       "      <td>Régab</td>\n",
       "      <td>142544</td>\n",
       "      <td>Societe des Brasseries du Gabon (SOBRAGA)</td>\n",
       "      <td>37262</td>\n",
       "      <td>Euro Pale Lager</td>\n",
       "      <td>4.5</td>\n",
       "      <td>1440064800</td>\n",
       "      <td>nmann08</td>\n",
       "      <td>nmann08.184925</td>\n",
       "      <td>3.25</td>\n",
       "      <td>2.75</td>\n",
       "      <td>3.25</td>\n",
       "      <td>2.75</td>\n",
       "      <td>3.0</td>\n",
       "      <td>2.88</td>\n",
       "      <td>From a bottle, pours a piss yellow color with...</td>\n",
       "      <td>True</td>\n",
       "    </tr>\n",
       "  </tbody>\n",
       "</table>\n",
       "</div>"
      ],
      "text/plain": [
       "  beer_name  beer_id                                brewery_name  brewery_id  \\\n",
       "0     Régab   142544   Societe des Brasseries du Gabon (SOBRAGA)       37262   \n",
       "\n",
       "             style   abv         date user_name         user_id appearance  \\\n",
       "0  Euro Pale Lager   4.5   1440064800   nmann08  nmann08.184925       3.25   \n",
       "\n",
       "   aroma palate  taste overall  rating  \\\n",
       "0   2.75   3.25   2.75     3.0    2.88   \n",
       "\n",
       "                                                text review  \n",
       "0   From a bottle, pours a piss yellow color with...   True  "
      ]
     },
     "execution_count": 16,
     "metadata": {},
     "output_type": "execute_result"
    }
   ],
   "source": [
    "reviews_df = read_reviews_file(file_path=sample_file)\n",
    "print(f'number of reviews = {len(reviews_df)}')\n",
    "reviews_df.head(1)"
   ]
  },
  {
   "cell_type": "markdown",
   "id": "b80d83d0",
   "metadata": {},
   "source": [
    "### The dataset of users:"
   ]
  },
  {
   "cell_type": "code",
   "execution_count": 27,
   "id": "25fe01a9",
   "metadata": {},
   "outputs": [
    {
     "name": "stdout",
     "output_type": "stream",
     "text": [
      "Number of users = 122424\n"
     ]
    },
    {
     "data": {
      "text/html": [
       "<div>\n",
       "<style scoped>\n",
       "    .dataframe tbody tr th:only-of-type {\n",
       "        vertical-align: middle;\n",
       "    }\n",
       "\n",
       "    .dataframe tbody tr th {\n",
       "        vertical-align: top;\n",
       "    }\n",
       "\n",
       "    .dataframe thead th {\n",
       "        text-align: right;\n",
       "    }\n",
       "</style>\n",
       "<table border=\"1\" class=\"dataframe\">\n",
       "  <thead>\n",
       "    <tr style=\"text-align: right;\">\n",
       "      <th></th>\n",
       "      <th>nbr_ratings</th>\n",
       "      <th>nbr_reviews</th>\n",
       "      <th>user_id</th>\n",
       "      <th>user_name</th>\n",
       "      <th>joined</th>\n",
       "      <th>location</th>\n",
       "      <th>country</th>\n",
       "    </tr>\n",
       "  </thead>\n",
       "  <tbody>\n",
       "    <tr>\n",
       "      <th>0</th>\n",
       "      <td>7820</td>\n",
       "      <td>465</td>\n",
       "      <td>nmann08.184925</td>\n",
       "      <td>nmann08</td>\n",
       "      <td>1.199704e+09</td>\n",
       "      <td>United States, Washington</td>\n",
       "      <td>united states</td>\n",
       "    </tr>\n",
       "  </tbody>\n",
       "</table>\n",
       "</div>"
      ],
      "text/plain": [
       "   nbr_ratings  nbr_reviews         user_id user_name        joined  \\\n",
       "0         7820          465  nmann08.184925   nmann08  1.199704e+09   \n",
       "\n",
       "                    location        country  \n",
       "0  United States, Washington  united states  "
      ]
     },
     "execution_count": 27,
     "metadata": {},
     "output_type": "execute_result"
    }
   ],
   "source": [
    "users_df = read_users_file(users_file)\n",
    "print(f'Number of users = {len(users_df)}')\n",
    "users_df.head(1)"
   ]
  },
  {
   "cell_type": "code",
   "execution_count": 28,
   "id": "2a514137",
   "metadata": {},
   "outputs": [
    {
     "name": "stdout",
     "output_type": "stream",
     "text": [
      "Number of different contries form users = 145\n"
     ]
    }
   ],
   "source": [
    "users_country_list = list(users_df.country.unique())\n",
    "print(f'Number of different contries form users = {len(users_country_list)}')"
   ]
  },
  {
   "cell_type": "markdown",
   "id": "fd7f3070",
   "metadata": {},
   "source": [
    "Storing the users' origin in a dictionary"
   ]
  },
  {
   "cell_type": "code",
   "execution_count": 35,
   "id": "fd7f3070",
   "metadata": {},
   "outputs": [],
   "source": [
    "users_contry_dict = dict(zip(users_df.user_id, users_df.country))"
   ]
  },
  {
   "cell_type": "markdown",
   "id": "b80d83d0",
   "metadata": {},
   "source": [
    "### The dataset of breweries:"
   ]
  },
  {
   "cell_type": "code",
   "execution_count": 30,
   "id": "25fe01a9",
   "metadata": {},
   "outputs": [
    {
     "name": "stdout",
     "output_type": "stream",
     "text": [
      "Number of breweries = 16758\n"
     ]
    },
    {
     "data": {
      "text/html": [
       "<div>\n",
       "<style scoped>\n",
       "    .dataframe tbody tr th:only-of-type {\n",
       "        vertical-align: middle;\n",
       "    }\n",
       "\n",
       "    .dataframe tbody tr th {\n",
       "        vertical-align: top;\n",
       "    }\n",
       "\n",
       "    .dataframe thead th {\n",
       "        text-align: right;\n",
       "    }\n",
       "</style>\n",
       "<table border=\"1\" class=\"dataframe\">\n",
       "  <thead>\n",
       "    <tr style=\"text-align: right;\">\n",
       "      <th></th>\n",
       "      <th>id</th>\n",
       "      <th>location</th>\n",
       "      <th>name</th>\n",
       "      <th>nbr_beers</th>\n",
       "      <th>country</th>\n",
       "    </tr>\n",
       "  </thead>\n",
       "  <tbody>\n",
       "    <tr>\n",
       "      <th>0</th>\n",
       "      <td>39912</td>\n",
       "      <td>Kyrgyzstan</td>\n",
       "      <td>Abdysh-Ata (Абдыш Ата)</td>\n",
       "      <td>5</td>\n",
       "      <td>kyrgyzstan</td>\n",
       "    </tr>\n",
       "  </tbody>\n",
       "</table>\n",
       "</div>"
      ],
      "text/plain": [
       "      id    location                    name  nbr_beers     country\n",
       "0  39912  Kyrgyzstan  Abdysh-Ata (Абдыш Ата)          5  kyrgyzstan"
      ]
     },
     "execution_count": 30,
     "metadata": {},
     "output_type": "execute_result"
    }
   ],
   "source": [
    "breweries_df = read_breweries_file(breweries_file)\n",
    "print(f'Number of breweries = {len(breweries_df)}')\n",
    "breweries_df.head(1)"
   ]
  },
  {
   "cell_type": "code",
   "execution_count": 31,
   "id": "2a514137",
   "metadata": {},
   "outputs": [
    {
     "name": "stdout",
     "output_type": "stream",
     "text": [
      "Number of different contries from breweries = 236\n"
     ]
    }
   ],
   "source": [
    "print(f'Number of different contries from breweries = {len(list(breweries_df.country.unique()))}')"
   ]
  },
  {
   "cell_type": "markdown",
   "id": "fd7f3070",
   "metadata": {},
   "source": [
    "Storing the breweries' origin in a dictionary"
   ]
  },
  {
   "cell_type": "code",
   "execution_count": null,
   "id": "aa118c63",
   "metadata": {},
   "outputs": [],
   "source": [
    "breweries_contry_dict = dict(zip(breweries_df.id, breweries_df.country))"
   ]
  },
  {
   "cell_type": "markdown",
   "id": "3b0bd369",
   "metadata": {},
   "source": [
    "### Combining reviews, users and breweries:"
   ]
  },
  {
   "cell_type": "markdown",
   "id": "f1da7496",
   "metadata": {},
   "source": [
    "For each review, we will check if the origin of the user (reviewer) is the same as the brewery (whose beer is being reviewed), marking it with a `1` if the contries match and `0` otherwise."
   ]
  },
  {
   "cell_type": "markdown",
   "id": "9cf4304f",
   "metadata": {},
   "source": [
    "Merging users and breweries origin (filtering out cases where location in unknown):"
   ]
  },
  {
   "cell_type": "code",
   "execution_count": 36,
   "id": "7548a5f9",
   "metadata": {},
   "outputs": [],
   "source": [
    "def get_country(id, correspondance_dict):\n",
    "    if id in correspondance_dict:\n",
    "        return correspondance_dict[id]\n",
    "    else:\n",
    "        return np.nan\n",
    "\n",
    "reviews_df['user_country'] = reviews_df['user_id'].apply(\n",
    "    lambda x: get_country(id=x, correspondance_dict=users_contry_dict)\n",
    ")\n",
    "reviews_df['brewery_country'] = reviews_df['brewery_id'].apply(\n",
    "    lambda x: get_country(id=x, correspondance_dict=breweries_contry_dict)\n",
    ")\n",
    "reviews_df = reviews_df.dropna()"
   ]
  },
  {
   "cell_type": "markdown",
   "id": "31c44189",
   "metadata": {},
   "source": [
    "Creating a column to store if country is the same:"
   ]
  },
  {
   "cell_type": "code",
   "execution_count": 38,
   "id": "4b85cde6",
   "metadata": {},
   "outputs": [],
   "source": [
    "def is_contry_the_same(contry1, country2):\n",
    "    if contry1==country2: \n",
    "        return 1\n",
    "    else:\n",
    "        return 0\n",
    "\n",
    "reviews_df['is_same_country'] = reviews_df.apply(lambda row: is_contry_the_same(row.user_country, row.brewery_country), axis=1)"
   ]
  },
  {
   "cell_type": "markdown",
   "id": "fb9a57b7",
   "metadata": {},
   "source": [
    "To check if the difference in origin between the user and beer is statistically significant across reviews, we will compute the 95% confidence intervals (using `scipy.stats`) of the generated column `is_same_country`:"
   ]
  },
  {
   "cell_type": "code",
   "execution_count": 62,
   "id": "9dbe3b49",
   "metadata": {},
   "outputs": [
    {
     "name": "stdout",
     "output_type": "stream",
     "text": [
      "--------------------------\n",
      "Comparison between user and beer origin from all reviews:\n",
      "\n",
      "Average = 0.06246369773664315\n",
      "Confidence interval = (0.06100008904155203, 0.06392730643173426)\n",
      "--------------------------\n"
     ]
    }
   ],
   "source": [
    "def get_confidence_interval(data, title=None):\n",
    "    interval = st.t.interval(confidence=0.95,\n",
    "                df=len(data)-1,\n",
    "                loc=np.mean(data), \n",
    "                scale=st.sem(data))\n",
    "    print('--------------------------')\n",
    "    if title:\n",
    "        print(title)\n",
    "    print()\n",
    "    print(f'''Average = {np.mean(data)}\n",
    "Confidence interval = {interval}''')\n",
    "    print('--------------------------')\n",
    "    return interval\n",
    "\n",
    "\n",
    "interval = get_confidence_interval(list(reviews_df.is_same_country), \"Comparison between user and beer origin from all reviews:\")"
   ]
  },
  {
   "cell_type": "markdown",
   "id": "9260f2dc",
   "metadata": {},
   "source": [
    "This result indicates that, in general, for all reviews, the country of the user (reviewer) tend to not be the same as the beer being reviewed. In fact, this would be expected, as the probability of any given country being one's (unique) contry of origin is very low, given that there are many more countries which are not this person's country.\n",
    "\n",
    "What we want to investigate further here is the user's *preference* as a function of contry, which can be hidden inside the gross number of reviews. "
   ]
  },
  {
   "cell_type": "markdown",
   "id": "5f7e45e3",
   "metadata": {},
   "source": [
    "## Metrics to capture user's preference"
   ]
  },
  {
   "cell_type": "markdown",
   "id": "e5054564",
   "metadata": {},
   "source": [
    "Some initial ideias to capture the users preferences are related to analyzing what are the styles and contries of origin of each person's most frequent reviews, as well as the individual's best rated reviews. \n",
    "\n",
    "This type of analysis can be done with the following function, which we intend to develop and build upon in the third phase of the project:"
   ]
  },
  {
   "cell_type": "code",
   "execution_count": 85,
   "id": "6d0db346",
   "metadata": {},
   "outputs": [],
   "source": [
    "def get_user_preferences_df(reviews_df, number_of_reviews_threshold=5):\n",
    "    grouped = reviews_df.groupby('user_id')\n",
    "    data = []\n",
    "    for user_id, group in grouped:\n",
    "        if len(group) >= number_of_reviews_threshold:\n",
    "            row_dict = {}\n",
    "            row_dict['user_id'] = user_id\n",
    "            row_dict['user_country'] = users_contry_dict[user_id]\n",
    "\n",
    "            most_frequent_style = group['style'].value_counts().idxmax()\n",
    "            row_dict['most_frequent_style'] = most_frequent_style\n",
    "\n",
    "            most_frequent_country = group['brewery_country'].value_counts().idxmax()\n",
    "            row_dict['most_frequent_country'] = most_frequent_country\n",
    "\n",
    "            highest_rated_index = group['rating'].idxmax()\n",
    "            highest_rated_beer = reviews_df.loc[highest_rated_index]\n",
    "            row_dict['highest_rating'] = highest_rated_beer.rating\n",
    "            row_dict['highest_rated_origin'] = highest_rated_beer.brewery_country\n",
    "\n",
    "            row_dict['is_country_same_as_highest_rated'] = 1 if highest_rated_beer.brewery_country == users_contry_dict[user_id] else 0\n",
    "            row_dict['is_country_same_as_most_frequent'] = 1 if most_frequent_country == users_contry_dict[user_id] else 0\n",
    "\n",
    "            avg_rating_per_style = group.groupby(['style'])['rating'].mean().to_dict()\n",
    "            row_dict['highest_rated_style'] = max(avg_rating_per_style, key=avg_rating_per_style.get)\n",
    "            row_dict['lowest_rated_style'] = min(avg_rating_per_style, key=avg_rating_per_style.get)\n",
    "\n",
    "            # row_dict['favorite_beers_avg_rating'] = group[group['style'] == most_frequent_style]['rating'].mean()\n",
    "            # row_dict['other_beers_avg_rating'] = group[group['style'] != most_frequent_style]['rating'].mean()\n",
    "\n",
    "            data.append(row_dict)\n",
    "    return pd.DataFrame(data)"
   ]
  },
  {
   "cell_type": "markdown",
   "id": "c3973a1a",
   "metadata": {},
   "source": [
    "In order to have a solid grasp of each individuals preferences, we decided to consider individuals with at the number of least $n$ different ratings. (Although this can reduce the number of instances in  our analysis, it makes the estimation of the user's preferences more robust)."
   ]
  },
  {
   "cell_type": "code",
   "execution_count": 88,
   "id": "b548149b",
   "metadata": {},
   "outputs": [
    {
     "data": {
      "image/png": "[encoded data removed]",
      "text/plain": [
       "<Figure size 600x400 with 1 Axes>"
      ]
     },
     "metadata": {},
     "output_type": "display_data"
    }
   ],
   "source": [
    "fig = plt.figure().set_size_inches(6,4)\n",
    "number_of_reviews = reviews_df.value_counts('user_id').values\n",
    "bins = np.arange(1, 60, 1)\n",
    "plt.ylabel('Number of users')\n",
    "plt.xlabel('Number of ratings')\n",
    "plt.hist(number_of_reviews, bins=bins)\n",
    "plt.show()"
   ]
  },
  {
   "cell_type": "markdown",
   "id": "b0d72061",
   "metadata": {},
   "source": [
    "Here, we would like compare how the most reviewed country for each individual and the origin of her/his highest rated beer relates to its own country. For this reason, we compute the average values and confidence intervals for both the `is_country_same_as_highest_rated` and `is_country_same_as_most_frequent` fields generated below."
   ]
  },
  {
   "cell_type": "code",
   "execution_count": 89,
   "id": "16af16cd",
   "metadata": {},
   "outputs": [],
   "source": [
    "user_prefs_df = get_user_preferences_df(reviews_df)"
   ]
  },
  {
   "cell_type": "code",
   "execution_count": 90,
   "id": "44ec4101",
   "metadata": {},
   "outputs": [
    {
     "name": "stdout",
     "output_type": "stream",
     "text": [
      "--------------------------\n",
      "Comparison between user and beer origin for most frequent beer country:\n",
      "\n",
      "Average = 0.024041327240214582\n",
      "Confidence interval = (0.01980804540404256, 0.028274609076386605)\n",
      "--------------------------\n"
     ]
    }
   ],
   "source": [
    "interval = get_confidence_interval(list(user_prefs_df.is_country_same_as_most_frequent), \"Comparison between user and beer origin for most frequent beer country:\")"
   ]
  },
  {
   "cell_type": "code",
   "execution_count": 91,
   "id": "44ec4101",
   "metadata": {},
   "outputs": [
    {
     "name": "stdout",
     "output_type": "stream",
     "text": [
      "--------------------------\n",
      "Comparison between user and beer origin for highest rated review:\n",
      "\n",
      "Average = 0.019074110868269423\n",
      "Confidence interval = (0.015293843659853626, 0.022854378076685222)\n",
      "--------------------------\n"
     ]
    }
   ],
   "source": [
    "interval = get_confidence_interval(list(user_prefs_df.is_country_same_as_highest_rated), \"Comparison between user and beer origin for highest rated review:\")"
   ]
  },
  {
   "cell_type": "markdown",
   "id": "037ced7a",
   "metadata": {},
   "source": [
    "As it can be observed in this preliminary analysis, the average value of the most frequent beer country is higher than the country of the highest reviews for each individual. This can point to a be subtle trend for the users reviewing on average more beers from their own country, but not necessarly having these beers as their favorite (they can be from a different country)."
   ]
  },
  {
   "cell_type": "markdown",
   "id": "893568b2",
   "metadata": {},
   "source": [
    "Improved versions of these type of analysis are planned to be made in the third part of the project, accounting for all ratings from both beer reviews websites. Among other things, further care will be taken to analysis cases where \n",
    "inherant imbalances in the dataset between beers and reviews may affect the final results and conclusions "
   ]
  },
  {
   "cell_type": "markdown",
   "id": "03bddeaf",
   "metadata": {},
   "source": [
    "## Examples of illustrative analysis"
   ]
  },
  {
   "cell_type": "markdown",
   "id": "8cfede62",
   "metadata": {},
   "source": [
    "Beyond computing metrics, we plan to make interactive visualizations of the preffered beers across styles and countries around the world, in a way that may support our insights from the data generated. Some premature examples relate the user's country of origin and beer style as follows:"
   ]
  },
  {
   "cell_type": "code",
   "execution_count": 96,
   "id": "a54f3706",
   "metadata": {},
   "outputs": [],
   "source": [
    "def get_beer_style_matrix(df, category, n_most_frequent=10):\n",
    "    new_df = df[['user_country', category]].copy()\n",
    "    most_frequent_countries = list(new_df['user_country'].value_counts()[:n_most_frequent].keys())\n",
    "    most_frequent_styles = list(new_df[category].value_counts()[:n_most_frequent].keys())\n",
    "\n",
    "    new_df.user_country = new_df.user_country.astype(\"category\")\n",
    "    new_df.user_country = new_df.user_country.cat.set_categories(most_frequent_countries)\n",
    "    new_df.sort_values(['user_country'])\n",
    "    \n",
    "    new_df[category] = new_df[category].astype(\"category\")\n",
    "    new_df[category] = new_df[category].cat.set_categories(most_frequent_styles)\n",
    "    new_df.sort_values([category])\n",
    "\n",
    "    new_df = new_df[new_df['user_country'].isin(most_frequent_countries)]\n",
    "    new_df = new_df[new_df[category].isin(most_frequent_styles)]\n",
    "    new_df['count'] = 1\n",
    "    new_df = pd.pivot_table(new_df, values=['count'], index=['user_country'],\n",
    "                        columns=[category], aggfunc=np.sum, fill_value=0)\n",
    "    return new_df['count']"
   ]
  },
  {
   "cell_type": "code",
   "execution_count": 105,
   "id": "21ad26b8",
   "metadata": {},
   "outputs": [
    {
     "data": {
      "text/plain": [
       "Text(0.5, 1.0, \"Beer preferences across countries:\\nuser's country $\\\\times$ its most frequent style of beer\\n(only shown for top 10 countries and styles)\")"
      ]
     },
     "execution_count": 105,
     "metadata": {},
     "output_type": "execute_result"
    },
    {
     "data": {
      "image/png": "[encoded data removed]",
      "text/plain": [
       "<Figure size 640x480 with 2 Axes>"
      ]
     },
     "metadata": {},
     "output_type": "display_data"
    }
   ],
   "source": [
    "most_frequent_df = get_beer_style_matrix(\n",
    "    df=user_prefs_df,\n",
    "    category='most_frequent_style'\n",
    ")\n",
    "sns.heatmap(most_frequent_df, cmap=\"Blues\", norm=LogNorm())\n",
    "\n",
    "plt.title('''Beer preferences across countries:\n",
    "user's country $\\\\times$ its most frequent style of beer\n",
    "(only shown for top 10 countries and styles)''')"
   ]
  },
  {
   "cell_type": "markdown",
   "id": "8a1acd35",
   "metadata": {},
   "source": [
    "Future (improved) versions of these plots are expected to account for clever ways to fit more countries in a concise plot, as well as normalize the user's preferences by taking into account the unequal distribution of users across countries. "
   ]
  }
 ],
 "metadata": {
  "kernelspec": {
   "display_name": "Python 3.9.13 ('base')",
   "language": "python",
   "name": "python3"
  },
  "language_info": {
   "codemirror_mode": {
    "name": "ipython",
    "version": 3
   },
   "file_extension": ".py",
   "mimetype": "text/x-python",
   "name": "python",
   "nbconvert_exporter": "python",
   "pygments_lexer": "ipython3",
   "version": "3.9.13"
  },
  "vscode": {
   "interpreter": {
    "hash": "08fbd46fed0ea71a07b9b941031df9ac2426cdf4fda8bf4386ea5c73df30b4ea"
   }
  }
 },
 "nbformat": 4,
 "nbformat_minor": 5
}
